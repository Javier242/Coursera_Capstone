{
    "cells": [
        {
            "cell_type": "markdown",
            "metadata": {},
            "source": "# Capstone Project - The Battle of Neighborhoods"
        },
        {
            "cell_type": "markdown",
            "metadata": {},
            "source": "## New store location in Barcelona"
        },
        {
            "cell_type": "markdown",
            "metadata": {},
            "source": "<img  src=http://3.bp.blogspot.com/-EsiXnXwH4K8/VSadZk-fiqI/AAAAAAAAE48/z0ch8qF_G1Y/s1600/01%2BHuerto%2Bde%2Bla%2BSagrada%2BFamilia%2BBarcelona.jpg>"
        },
        {
            "cell_type": "markdown",
            "metadata": {},
            "source": "## Description of the Problem and a discussion of the background"
        },
        {
            "cell_type": "markdown",
            "metadata": {},
            "source": "A provider of agricultural articles and supplies in Spain wants to expand its business line in response to the growing market of urban agriculture in small spaces, which has a special boom in the city of Barcelona, due to the concern for the organic food."
        },
        {
            "cell_type": "markdown",
            "metadata": {},
            "source": "The commercial strategy is to place an own store in a  neighborhoods with an urban farm. It\u2019s important  to be able to expand the business by attracting the attention  of new independent distributors who wish to represent the brand in other cities in Spain and the rest of the European community. For this reason, the neighborhood that has a wide range of \u2018Spanish Restaurants\u2019, \u2018Hotels\u2019 and \u2018Coffee Shops\u2019,  will be prioritized in order to attend business partners from other cities."
        },
        {
            "cell_type": "markdown",
            "metadata": {},
            "source": "## A description of the data and how it will be used to solve the problem"
        },
        {
            "cell_type": "markdown",
            "metadata": {},
            "source": "It will be used the data about the location of urban farms in Barcelona from  https://opendata-ajuntament.barcelona.cat/data/es/dataset/horts-urbans."
        },
        {
            "cell_type": "markdown",
            "metadata": {},
            "source": "After cleaning and ordering the data,  the available data on Foursquare will be crossed in order to identify which neigborhoods with an urban farm have a greater offer of \u2018Spanish Restaurants\u2019, \u2018Hotels\u2019 and \u2018Coffee Shops\u2019, which will allow optimizing the decision of where to open a local distributor without spending time  and money visiting the neighborhoods or hiring a real state broker."
        }
    ],
    "metadata": {
        "kernelspec": {
            "display_name": "Python 3.6",
            "language": "python",
            "name": "python3"
        },
        "language_info": {
            "codemirror_mode": {
                "name": "ipython",
                "version": 3
            },
            "file_extension": ".py",
            "mimetype": "text/x-python",
            "name": "python",
            "nbconvert_exporter": "python",
            "pygments_lexer": "ipython3",
            "version": "3.6.9"
        }
    },
    "nbformat": 4,
    "nbformat_minor": 1
}